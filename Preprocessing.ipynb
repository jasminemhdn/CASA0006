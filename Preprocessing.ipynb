{
 "cells": [
  {
   "cell_type": "markdown",
   "id": "5b80605d-5110-4dae-a0d4-2238d5b1ab77",
   "metadata": {},
   "source": [
    "# Assessing the Severity of London's Road Traffic Accident and Its Contributing Factors"
   ]
  },
  {
   "cell_type": "markdown",
   "id": "3659b95d-b862-4a84-9e7e-7353ae3682ac",
   "metadata": {},
   "source": [
    "## Data Preprocessing"
   ]
  },
  {
   "cell_type": "markdown",
   "id": "1faf97b5-76c6-4000-ac4f-c5ea8ded2f9e",
   "metadata": {},
   "source": [
    "### List of Packages"
   ]
  },
  {
   "cell_type": "code",
   "execution_count": 1,
   "id": "428f24a4-522d-47e0-8f2d-56c85dfd7f63",
   "metadata": {},
   "outputs": [],
   "source": [
    "# Importing libraries\n",
    "import pandas as pd\n",
    "import numpy as np\n",
    "import geopandas as gpd"
   ]
  },
  {
   "cell_type": "markdown",
   "id": "76c2be26-bf16-463f-9a9f-94cea5658ff9",
   "metadata": {},
   "source": [
    "### Collision Data"
   ]
  },
  {
   "cell_type": "code",
   "execution_count": 2,
   "id": "7b43ec61-22b8-4f6d-ba00-bf34c6ede1e6",
   "metadata": {},
   "outputs": [
    {
     "name": "stderr",
     "output_type": "stream",
     "text": [
      "C:\\Users\\Jasmine\\AppData\\Local\\Temp\\ipykernel_2856\\1838477305.py:2: DtypeWarning: Columns (0,2,15,16,35) have mixed types. Specify dtype option on import or set low_memory=False.\n",
      "  collision = pd.read_csv(\"collision.csv\")\n"
     ]
    },
    {
     "data": {
      "text/plain": [
       "accident_index                                  object\n",
       "accident_year                                    int64\n",
       "accident_reference                              object\n",
       "location_easting_osgr                          float64\n",
       "location_northing_osgr                         float64\n",
       "longitude                                      float64\n",
       "latitude                                       float64\n",
       "police_force                                     int64\n",
       "accident_severity                                int64\n",
       "number_of_vehicles                               int64\n",
       "number_of_casualties                             int64\n",
       "date                                            object\n",
       "day_of_week                                      int64\n",
       "time                                            object\n",
       "local_authority_district                         int64\n",
       "local_authority_ons_district                    object\n",
       "local_authority_highway                         object\n",
       "first_road_class                                 int64\n",
       "first_road_number                                int64\n",
       "road_type                                        int64\n",
       "speed_limit                                    float64\n",
       "junction_detail                                  int64\n",
       "junction_control                                 int64\n",
       "second_road_class                                int64\n",
       "second_road_number                               int64\n",
       "pedestrian_crossing_human_control                int64\n",
       "pedestrian_crossing_physical_facilities          int64\n",
       "light_conditions                                 int64\n",
       "weather_conditions                               int64\n",
       "road_surface_conditions                          int64\n",
       "special_conditions_at_site                       int64\n",
       "carriageway_hazards                              int64\n",
       "urban_or_rural_area                              int64\n",
       "did_police_officer_attend_scene_of_accident      int64\n",
       "trunk_road_flag                                  int64\n",
       "lsoa_of_accident_location                       object\n",
       "enhanced_severity_collision                      int64\n",
       "dtype: object"
      ]
     },
     "execution_count": 2,
     "metadata": {},
     "output_type": "execute_result"
    }
   ],
   "source": [
    "# Importing collision data\n",
    "collision = pd.read_csv(\"collision.csv\")\n",
    "collision.dtypes"
   ]
  },
  {
   "cell_type": "code",
   "execution_count": 3,
   "id": "93f79ad5-7b09-4f8e-aef6-e89852859be4",
   "metadata": {},
   "outputs": [
    {
     "data": {
      "text/plain": [
       "(909322, 37)"
      ]
     },
     "execution_count": 3,
     "metadata": {},
     "output_type": "execute_result"
    }
   ],
   "source": [
    "# Filter data for after July 2016 only\n",
    "collision = collision[collision['accident_year'] >= 2016]\n",
    "collision.shape"
   ]
  },
  {
   "cell_type": "code",
   "execution_count": 4,
   "id": "1196b7ba-6b9f-46db-ac75-61d5d66561e1",
   "metadata": {},
   "outputs": [
    {
     "data": {
      "text/html": [
       "<div>\n",
       "<style scoped>\n",
       "    .dataframe tbody tr th:only-of-type {\n",
       "        vertical-align: middle;\n",
       "    }\n",
       "\n",
       "    .dataframe tbody tr th {\n",
       "        vertical-align: top;\n",
       "    }\n",
       "\n",
       "    .dataframe thead th {\n",
       "        text-align: right;\n",
       "    }\n",
       "</style>\n",
       "<table border=\"1\" class=\"dataframe\">\n",
       "  <thead>\n",
       "    <tr style=\"text-align: right;\">\n",
       "      <th></th>\n",
       "      <th>accident_year</th>\n",
       "      <th>date</th>\n",
       "      <th>lsoa_of_accident_location</th>\n",
       "      <th>accident_severity</th>\n",
       "      <th>weather_conditions</th>\n",
       "      <th>light_conditions</th>\n",
       "      <th>number_of_vehicles</th>\n",
       "      <th>number_of_casualties</th>\n",
       "      <th>road_type</th>\n",
       "      <th>speed_limit</th>\n",
       "      <th>special_conditions_at_site</th>\n",
       "      <th>carriageway_hazards</th>\n",
       "    </tr>\n",
       "  </thead>\n",
       "  <tbody>\n",
       "    <tr>\n",
       "      <th>8004851</th>\n",
       "      <td>2016</td>\n",
       "      <td>01/11/2016</td>\n",
       "      <td>E01000543</td>\n",
       "      <td>3</td>\n",
       "      <td>1</td>\n",
       "      <td>5</td>\n",
       "      <td>2</td>\n",
       "      <td>1</td>\n",
       "      <td>6</td>\n",
       "      <td>30.0</td>\n",
       "      <td>0</td>\n",
       "      <td>0</td>\n",
       "    </tr>\n",
       "    <tr>\n",
       "      <th>8004852</th>\n",
       "      <td>2016</td>\n",
       "      <td>01/11/2016</td>\n",
       "      <td>E01000375</td>\n",
       "      <td>3</td>\n",
       "      <td>1</td>\n",
       "      <td>4</td>\n",
       "      <td>1</td>\n",
       "      <td>1</td>\n",
       "      <td>6</td>\n",
       "      <td>30.0</td>\n",
       "      <td>0</td>\n",
       "      <td>0</td>\n",
       "    </tr>\n",
       "    <tr>\n",
       "      <th>8004853</th>\n",
       "      <td>2016</td>\n",
       "      <td>01/11/2016</td>\n",
       "      <td>E01033725</td>\n",
       "      <td>3</td>\n",
       "      <td>1</td>\n",
       "      <td>4</td>\n",
       "      <td>1</td>\n",
       "      <td>1</td>\n",
       "      <td>1</td>\n",
       "      <td>30.0</td>\n",
       "      <td>0</td>\n",
       "      <td>0</td>\n",
       "    </tr>\n",
       "    <tr>\n",
       "      <th>8004854</th>\n",
       "      <td>2016</td>\n",
       "      <td>01/11/2016</td>\n",
       "      <td>E01003379</td>\n",
       "      <td>3</td>\n",
       "      <td>1</td>\n",
       "      <td>1</td>\n",
       "      <td>1</td>\n",
       "      <td>1</td>\n",
       "      <td>6</td>\n",
       "      <td>30.0</td>\n",
       "      <td>0</td>\n",
       "      <td>0</td>\n",
       "    </tr>\n",
       "    <tr>\n",
       "      <th>8004855</th>\n",
       "      <td>2016</td>\n",
       "      <td>01/11/2016</td>\n",
       "      <td>E01002583</td>\n",
       "      <td>3</td>\n",
       "      <td>1</td>\n",
       "      <td>1</td>\n",
       "      <td>2</td>\n",
       "      <td>1</td>\n",
       "      <td>3</td>\n",
       "      <td>40.0</td>\n",
       "      <td>0</td>\n",
       "      <td>0</td>\n",
       "    </tr>\n",
       "  </tbody>\n",
       "</table>\n",
       "</div>"
      ],
      "text/plain": [
       "         accident_year        date lsoa_of_accident_location  \\\n",
       "8004851           2016  01/11/2016                 E01000543   \n",
       "8004852           2016  01/11/2016                 E01000375   \n",
       "8004853           2016  01/11/2016                 E01033725   \n",
       "8004854           2016  01/11/2016                 E01003379   \n",
       "8004855           2016  01/11/2016                 E01002583   \n",
       "\n",
       "         accident_severity  weather_conditions  light_conditions  \\\n",
       "8004851                  3                   1                 5   \n",
       "8004852                  3                   1                 4   \n",
       "8004853                  3                   1                 4   \n",
       "8004854                  3                   1                 1   \n",
       "8004855                  3                   1                 1   \n",
       "\n",
       "         number_of_vehicles  number_of_casualties  road_type  speed_limit  \\\n",
       "8004851                   2                     1          6         30.0   \n",
       "8004852                   1                     1          6         30.0   \n",
       "8004853                   1                     1          1         30.0   \n",
       "8004854                   1                     1          6         30.0   \n",
       "8004855                   2                     1          3         40.0   \n",
       "\n",
       "         special_conditions_at_site  carriageway_hazards  \n",
       "8004851                           0                    0  \n",
       "8004852                           0                    0  \n",
       "8004853                           0                    0  \n",
       "8004854                           0                    0  \n",
       "8004855                           0                    0  "
      ]
     },
     "execution_count": 4,
     "metadata": {},
     "output_type": "execute_result"
    }
   ],
   "source": [
    "# Choose usable columns only\n",
    "collision = collision[['accident_year', 'date', 'lsoa_of_accident_location',\n",
    "                       'accident_severity', 'weather_conditions', 'light_conditions', \n",
    "                       'number_of_vehicles', 'number_of_casualties', 'road_type', 'speed_limit',\n",
    "                       'special_conditions_at_site', 'carriageway_hazards']]\n",
    "collision.to_csv(\"road_accident.csv\", index=False)\n",
    "collision.head()"
   ]
  }
 ],
 "metadata": {
  "kernelspec": {
   "display_name": "Python 3 (ipykernel)",
   "language": "python",
   "name": "python3"
  },
  "language_info": {
   "codemirror_mode": {
    "name": "ipython",
    "version": 3
   },
   "file_extension": ".py",
   "mimetype": "text/x-python",
   "name": "python",
   "nbconvert_exporter": "python",
   "pygments_lexer": "ipython3",
   "version": "3.11.10"
  }
 },
 "nbformat": 4,
 "nbformat_minor": 5
}
